{
 "cells": [
  {
   "cell_type": "code",
   "execution_count": 1,
   "metadata": {},
   "outputs": [],
   "source": [
    "import pandas as pd\n",
    "import numpy as np\n",
    "import matplotlib.pyplot as plt"
   ]
  },
  {
   "cell_type": "code",
   "execution_count": 2,
   "metadata": {},
   "outputs": [],
   "source": [
    "file_before = 'edata_2min_agg_before.csv'\n",
    "file_after = 'edata_2min_agg_after.csv'"
   ]
  },
  {
   "cell_type": "code",
   "execution_count": 3,
   "metadata": {},
   "outputs": [
    {
     "name": "stdout",
     "output_type": "stream",
     "text": [
      "(4852, 19)\n",
      "(3772, 19)\n"
     ]
    }
   ],
   "source": [
    "df1= pd.read_csv(file_before, sep=\";\")\n",
    "df2= pd.read_csv(file_after, sep=\";\")\n",
    "\n",
    "print(df1.shape)\n",
    "print(df2.shape)"
   ]
  },
  {
   "cell_type": "code",
   "execution_count": 4,
   "metadata": {},
   "outputs": [
    {
     "data": {
      "text/plain": [
       "5"
      ]
     },
     "execution_count": 4,
     "metadata": {},
     "output_type": "execute_result"
    }
   ],
   "source": [
    "\n",
    "huan= [\"331159366#1\",\"331159366#2\",\"331159366#3\",\"331159366#4\",\"331159366#5\" ,\"331159366#6\",\"331159366#7\",\"331159366#8\"]\n",
    "dong = [\"331159364#2.1476\" , \"331159364#2.526\"]\n",
    "nan = [\"826105809#14\",\"826105809#14.186\",\"826105809#14.238\"]\n",
    "xi = [\"331158296#2\",\"331158296#2.100\",\"331158296#2.118\"]\n",
    "bei = [\"897570587\", \"897570587.118\", \"897570589\"]\n",
    "\n",
    "edges =dict(\n",
    "    huan= [\"331159366#1\",\"331159366#2\",\"331159366#3\",\"331159366#4\",\"331159366#5\" ,\"331159366#6\",\"331159366#7\",\"331159366#8\"],\n",
    "    dong = [\"331159364#2.1476\" , \"331159364#2.526\"],\n",
    "    nan = [\"826105809#14\",\"826105809#14.186\",\"826105809#14.238\"],\n",
    "    xi = [\"331158296#2\",\"331158296#2.100\",\"331158296#2.118\"],\n",
    "    bei = [\"897570587\", \"897570587.118\", \"897570589\"]\n",
    "    )\n",
    "\n",
    "len(edges)"
   ]
  },
  {
   "cell_type": "code",
   "execution_count": 5,
   "metadata": {},
   "outputs": [
    {
     "data": {
      "text/plain": [
       "['331159364#2.1476', '331159364#2.526']"
      ]
     },
     "execution_count": 5,
     "metadata": {},
     "output_type": "execute_result"
    }
   ],
   "source": [
    "edges[\"dong\"]"
   ]
  },
  {
   "cell_type": "markdown",
   "metadata": {},
   "source": [
    "# 小流程测试"
   ]
  },
  {
   "cell_type": "code",
   "execution_count": 42,
   "metadata": {},
   "outputs": [],
   "source": [
    "data_after = pd.read_csv(file_before, sep=\";\")"
   ]
  },
  {
   "cell_type": "code",
   "execution_count": 43,
   "metadata": {},
   "outputs": [
    {
     "name": "stdout",
     "output_type": "stream",
     "text": [
      "<class 'pandas.core.frame.DataFrame'>\n",
      "RangeIndex: 4852 entries, 0 to 4851\n",
      "Data columns (total 19 columns):\n",
      " #   Column                  Non-Null Count  Dtype  \n",
      "---  ------                  --------------  -----  \n",
      " 0   interval_begin          4852 non-null   float64\n",
      " 1   interval_end            4852 non-null   float64\n",
      " 2   interval_id             4852 non-null   object \n",
      " 3   edge_arrived            4852 non-null   int64  \n",
      " 4   edge_density            4852 non-null   float64\n",
      " 5   edge_departed           4852 non-null   int64  \n",
      " 6   edge_entered            4852 non-null   int64  \n",
      " 7   edge_id                 4852 non-null   object \n",
      " 8   edge_laneChangedFrom    4852 non-null   int64  \n",
      " 9   edge_laneChangedTo      4852 non-null   int64  \n",
      " 10  edge_laneDensity        4852 non-null   float64\n",
      " 11  edge_left               4852 non-null   int64  \n",
      " 12  edge_occupancy          4852 non-null   float64\n",
      " 13  edge_overlapTraveltime  4852 non-null   float64\n",
      " 14  edge_sampledSeconds     4852 non-null   float64\n",
      " 15  edge_speed              4852 non-null   float64\n",
      " 16  edge_timeLoss           4852 non-null   float64\n",
      " 17  edge_traveltime         4809 non-null   float64\n",
      " 18  edge_waitingTime        4852 non-null   float64\n",
      "dtypes: float64(11), int64(6), object(2)\n",
      "memory usage: 720.3+ KB\n"
     ]
    }
   ],
   "source": [
    "data_after.info()"
   ]
  },
  {
   "cell_type": "code",
   "execution_count": 45,
   "metadata": {},
   "outputs": [
    {
     "data": {
      "text/plain": [
       "(4852, 19)"
      ]
     },
     "execution_count": 45,
     "metadata": {},
     "output_type": "execute_result"
    }
   ],
   "source": [
    "data_after.shape"
   ]
  },
  {
   "cell_type": "code",
   "execution_count": 46,
   "metadata": {},
   "outputs": [
    {
     "name": "stdout",
     "output_type": "stream",
     "text": [
      "<class 'pandas.core.frame.DataFrame'>\n",
      "RangeIndex: 4852 entries, 0 to 4851\n",
      "Data columns (total 18 columns):\n",
      " #   Column                  Non-Null Count  Dtype  \n",
      "---  ------                  --------------  -----  \n",
      " 0   interval_begin          4852 non-null   float64\n",
      " 1   interval_end            4852 non-null   float64\n",
      " 2   edge_arrived            4852 non-null   int64  \n",
      " 3   edge_density            4852 non-null   float64\n",
      " 4   edge_departed           4852 non-null   int64  \n",
      " 5   edge_entered            4852 non-null   int64  \n",
      " 6   edge_id                 4852 non-null   object \n",
      " 7   edge_laneChangedFrom    4852 non-null   int64  \n",
      " 8   edge_laneChangedTo      4852 non-null   int64  \n",
      " 9   edge_laneDensity        4852 non-null   float64\n",
      " 10  edge_left               4852 non-null   int64  \n",
      " 11  edge_occupancy          4852 non-null   float64\n",
      " 12  edge_overlapTraveltime  4852 non-null   float64\n",
      " 13  edge_sampledSeconds     4852 non-null   float64\n",
      " 14  edge_speed              4852 non-null   float64\n",
      " 15  edge_timeLoss           4852 non-null   float64\n",
      " 16  edge_traveltime         4809 non-null   float64\n",
      " 17  edge_waitingTime        4852 non-null   float64\n",
      "dtypes: float64(11), int64(6), object(1)\n",
      "memory usage: 682.4+ KB\n"
     ]
    }
   ],
   "source": [
    "data_af = data_after.drop(labels=[\"interval_id\"], axis=1, inplace= False)\n",
    "data_af.info()"
   ]
  },
  {
   "cell_type": "code",
   "execution_count": 47,
   "metadata": {},
   "outputs": [
    {
     "name": "stdout",
     "output_type": "stream",
     "text": [
      "True\n",
      "True\n",
      "True\n"
     ]
    }
   ],
   "source": [
    "edge_id = data_af[\"edge_id\"]\n",
    "\n",
    "for ege in xi:\n",
    "    print(ege in edge_id.values) \n"
   ]
  },
  {
   "cell_type": "code",
   "execution_count": 61,
   "metadata": {},
   "outputs": [
    {
     "data": {
      "text/plain": [
       "(75, 17)"
      ]
     },
     "execution_count": 61,
     "metadata": {},
     "output_type": "execute_result"
    }
   ],
   "source": [
    "# 如果要选择某列等于多个数值或者字符串时，要用到.isin(), 我们把df修改了一下：\n",
    "# 东方向测试\n",
    "\n",
    "tmp = data_af[data_af['edge_id'].isin(xi)]\n",
    "# help(pd.DataFrame.reset_index)\n",
    "tmp.reset_index(drop=True, inplace=True)\n",
    "tmp = tmp.drop(labels='edge_id', axis=1)\n",
    "tmp.shape"
   ]
  },
  {
   "cell_type": "code",
   "execution_count": 62,
   "metadata": {},
   "outputs": [],
   "source": [
    "# help(tmp.groupby)\n",
    "\n",
    "res = tmp.groupby(by=[\"interval_begin\"]).mean()\n",
    "\n",
    "res.reset_index(inplace=True)\n",
    "\n",
    "a= np.array(res[\"interval_begin\"])/120\n",
    "b = a.astype(int)\n",
    "\n",
    "res.index = b\n",
    "res.head()\n",
    "res.to_excel('res.xlsx')"
   ]
  },
  {
   "cell_type": "code",
   "execution_count": 39,
   "metadata": {},
   "outputs": [
    {
     "data": {
      "text/plain": [
       "array([ 0,  1,  2,  3,  4,  5,  6,  7,  8,  9, 10, 11, 12, 13, 14, 15, 16,\n",
       "       17, 18, 19, 20, 21, 22, 23, 24, 25, 26, 27, 28, 29])"
      ]
     },
     "execution_count": 39,
     "metadata": {},
     "output_type": "execute_result"
    }
   ],
   "source": [
    "\n",
    "b"
   ]
  },
  {
   "cell_type": "code",
   "execution_count": 21,
   "metadata": {},
   "outputs": [
    {
     "data": {
      "image/png": "[encoded data removed]",
      "text/plain": [
       "<Figure size 432x288 with 1 Axes>"
      ]
     },
     "metadata": {
      "needs_background": "light"
     },
     "output_type": "display_data"
    },
    {
     "data": {
      "text/plain": [
       "0      4.043333\n",
       "1      7.996667\n",
       "2      7.940000\n",
       "3      9.830000\n",
       "4     10.670000\n",
       "5     12.836667\n",
       "6      7.003333\n",
       "7     11.036667\n",
       "8      5.366667\n",
       "9     18.146667\n",
       "10     7.446667\n",
       "11    16.506667\n",
       "12     7.986667\n",
       "13    20.116667\n",
       "14     9.176667\n",
       "15    11.070000\n",
       "16    30.816667\n",
       "17    31.846667\n",
       "18    29.703333\n",
       "19    30.043333\n",
       "20    31.400000\n",
       "21    37.593333\n",
       "22    29.860000\n",
       "23    18.736667\n",
       "24    23.426667\n",
       "25    22.053333\n",
       "26    18.946667\n",
       "27    17.286667\n",
       "28    16.276667\n",
       "29    36.346667\n",
       "Name: edge_density, dtype: float64"
      ]
     },
     "execution_count": 21,
     "metadata": {},
     "output_type": "execute_result"
    }
   ],
   "source": [
    "plt.plot(res['edge_density'])\n",
    "plt.show()\n",
    "y1 = res['edge_density']\n",
    "y1"
   ]
  },
  {
   "cell_type": "code",
   "execution_count": 58,
   "metadata": {},
   "outputs": [
    {
     "data": {
      "image/png": "[encoded data removed]",
      "text/plain": [
       "<Figure size 900x600 with 1 Axes>"
      ]
     },
     "metadata": {
      "needs_background": "light"
     },
     "output_type": "display_data"
    }
   ],
   "source": [
    "plt.rcParams[\"font.sans-serif\"]=[\"SimHei\"] #设置字体\n",
    "plt.rcParams[\"axes.unicode_minus\"]=False #该语句解决图像中的“-”负号的乱码问题\n",
    "\n",
    "x = np.arange(res.shape[0])\n",
    "y1 = res['edge_density']\n",
    "y2 = res['edge_departed']\n",
    "\n",
    "fig = plt.figure(dpi=150)\n",
    "plt.plot(y1, label='优化前',marker = 'o')\n",
    "plt.plot(y2, label='优化后',marker = 'o')\n",
    "plt.xlabel('时间(2分钟)', fontsize=12)\n",
    "plt.ylabel('密度(meter)', fontsize=12)\n",
    "\n",
    "plt.legend()\n",
    "plt.show()"
   ]
  },
  {
   "cell_type": "code",
   "execution_count": null,
   "metadata": {},
   "outputs": [],
   "source": [
    "# plot the space for each vehicle\n",
    "\n",
    "import matplotlib.colors as colors\n",
    "data = []\n",
    "fig = plt.figure(dpi=150)\n",
    "\n",
    "t_min = np.min(data['Second0'])\n",
    "t_max = np.max(data['Second0'])\n",
    "\n",
    "v_plot_min = np.min(data['Speed (km/h)']) /3.6\n",
    "v_plot_max = np.max(data['Speed (km/h)']) /3.6\n",
    "\n",
    "dis0_max = np.max(data['CumDistance'])\n",
    "\n",
    "for i in range(1, 6):\n",
    "    veh = data.loc[data['Vehicle'] == i]\n",
    "\n",
    "    x_axix = veh['Second0']\n",
    "    y_axis = veh['CumDistance']\n",
    "\n",
    "    norm = colors.Normalize(vmin=v_plot_min, vmax=v_plot_max)\n",
    "\n",
    "    v = veh['Speed (km/h)'] /3.6\n",
    "    plt.scatter(x_axix, y_axis, marker = '.', s=0.1, c=v, cmap='jet_r', norm= norm)\n",
    "\n",
    "\n",
    "plt.xlabel('Time (second)', fontsize=12)\n",
    "plt.ylabel('Space (meter)', fontsize=12)\n",
    "\n",
    "plt.xlim(0, t_max)\n",
    "plt.ylim(0, dis0_max)\n",
    "plt.clim(v_plot_min, v_plot_max)\n",
    "cbar = plt.colorbar()\n",
    "cbar.set_label(\"speed(m/s)\", fontsize=10)\n",
    "\n",
    "plt.show()\n",
    "fig.savefig('Space-time_figure.png', dpi=300, bbox_inches='tight')"
   ]
  },
  {
   "cell_type": "code",
   "execution_count": 110,
   "metadata": {},
   "outputs": [
    {
     "data": {
      "text/plain": [
       "'density'"
      ]
     },
     "execution_count": 110,
     "metadata": {},
     "output_type": "execute_result"
    }
   ],
   "source": [
    "titl = 'edge_density'.split(sep='_')[1]\n",
    "titl.title()\n",
    "titl"
   ]
  },
  {
   "cell_type": "code",
   "execution_count": 116,
   "metadata": {},
   "outputs": [
    {
     "name": "stdout",
     "output_type": "stream",
     "text": [
      "huan\n",
      "['331159366#1', '331159366#2', '331159366#3', '331159366#4', '331159366#5', '331159366#6', '331159366#7', '331159366#8']\n",
      "dong\n",
      "['331159364#2.1476', '331159364#2.526']\n",
      "nan\n",
      "['826105809#14', '826105809#14.186', '826105809#14.238']\n",
      "xi\n",
      "['331158296#2', '331158296#2.100', '331158296#2.118']\n",
      "bei\n",
      "['897570587', '897570587.118', '897570589']\n"
     ]
    }
   ],
   "source": [
    "for pre, pos in edges.items():\n",
    "    print(pre)\n",
    "    print(pos)"
   ]
  },
  {
   "cell_type": "code",
   "execution_count": 119,
   "metadata": {},
   "outputs": [
    {
     "data": {
      "text/plain": [
       "True"
      ]
     },
     "execution_count": 119,
     "metadata": {},
     "output_type": "execute_result"
    }
   ],
   "source": [
    "lab_dict = dict(\n",
    "                edge_density= \"路段密度(辆/千米)\",\n",
    "                edge_laneDensity=\"车道密度(辆/千米/车道)\", \n",
    "                edge_occupancy=\"占有率(%)\",\n",
    "                edge_timeLoss= \"损失时间(秒)\",\n",
    "                edge_speed = \"平均速度(米/秒)\",\n",
    "                edge_traveltime=\"通过时间(秒)\",\n",
    "                edge_waitingTime=\"停车排队时间(秒)\"\n",
    "                    )\n",
    "\"edge_density\" in lab_dict.keys()"
   ]
  },
  {
   "cell_type": "code",
   "execution_count": 69,
   "metadata": {},
   "outputs": [
    {
     "data": {
      "text/plain": [
       "'西进口车道'"
      ]
     },
     "execution_count": 69,
     "metadata": {},
     "output_type": "execute_result"
    }
   ],
   "source": [
    "pre_dict= dict(\n",
    "            huan=\"圆环\",\n",
    "            dong=\"东进口车道\",\n",
    "            xi=\"西进口车道\",\n",
    "            nan=\"南进口车道\",\n",
    "            bei=\"北进口车道\"\n",
    "                    )\n",
    "                    \n",
    "\n",
    "pre = \"xi\"\n",
    "prefix = pre_dict[pre]\n",
    "prefix"
   ]
  },
  {
   "cell_type": "code",
   "execution_count": 78,
   "metadata": {},
   "outputs": [],
   "source": [
    "filename = 'edata_2min_agg_before.csv'\n",
    "\n",
    "\n",
    "edges =dict(\n",
    "        huan= [\"331159366#1\",\"331159366#2\",\"331159366#3\",\"331159366#4\",\"331159366#5\" ,\"331159366#6\",\"331159366#7\",\"331159366#8\"],\n",
    "        dong = [\"331159364#2.1476\" , \"331159364#2.526\"],\n",
    "        nan = [\"826105809#14\",\"826105809#14.186\",\"826105809#14.238\"],\n",
    "        xi = [\"331158296#2\", \"331158296#2.100\", \"331158296#2.118\"],\n",
    "        bei = [\"897570587\", \"897570587.118\", \"897570589\"]\n",
    "        )\n",
    "pos = edges['huan']\n",
    "\n",
    "data= pd.read_csv(filename, sep=\";\")\n",
    "tmp = data[data['edge_id'].isin(pos)]\n",
    "tmp.reset_index(drop=True, inplace=True)\n",
    "\n",
    "tmp.drop(labels=[\"interval_id\",\"edge_id\"], axis=1, inplace=True)\n",
    "tmp = tmp.groupby(by=[\"interval_begin\"]).mean()\n",
    "res = tmp.reset_index() # 分组用的\"interval_begin\" 加进去了\n",
    "\n",
    "idx = np.array(res[\"interval_begin\"])/120\n",
    "res.index = idx.astype(int)"
   ]
  },
  {
   "cell_type": "code",
   "execution_count": null,
   "metadata": {},
   "outputs": [],
   "source": []
  }
 ],
 "metadata": {
  "interpreter": {
   "hash": "e481c8094450a362835654784466fc3605d9d17b45d80f6ff62525ad7933ac54"
  },
  "kernelspec": {
   "display_name": "Python 3.7.9 64-bit",
   "language": "python",
   "name": "python3"
  },
  "language_info": {
   "codemirror_mode": {
    "name": "ipython",
    "version": 3
   },
   "file_extension": ".py",
   "mimetype": "text/x-python",
   "name": "python",
   "nbconvert_exporter": "python",
   "pygments_lexer": "ipython3",
   "version": "3.7.9"
  },
  "orig_nbformat": 4
 },
 "nbformat": 4,
 "nbformat_minor": 2
}
